{
 "cells": [
  {
   "cell_type": "code",
   "execution_count": 1,
   "id": "c682e1c0",
   "metadata": {},
   "outputs": [
    {
     "name": "stdout",
     "output_type": "stream",
     "text": [
      "processing data: test_data.mat\n",
      "running on  cuda\n"
     ]
    },
    {
     "data": {
      "text/plain": [
       "<Figure size 640x480 with 0 Axes>"
      ]
     },
     "metadata": {},
     "output_type": "display_data"
    }
   ],
   "source": [
    "import funcs\n",
    "import os\n",
    "import argparse\n",
    "\n",
    "os.environ['KMP_DUPLICATE_LIB_OK']='TRUE'\n",
    "#parser = argparse.ArgumentParser(description='Limited angle computed tomography')\n",
    "\n",
    "#parser.add_argument('--data_dir', default='./data/',type=str, help='Folder where the input files are located')\n",
    "#parser.add_argument('--out_dir', default='./output/', type=str, help=' Folder where the output files is stored')\n",
    "#parser.add_argument('--group_number', default=1, type=int, help=' Group category number')\n",
    "#args = parser.parse_args()\n",
    "\n",
    "\n",
    "if __name__ == \"__main__\":\n",
    "    \n",
    "    group_number=7\n",
    "    data_folder='./data/'\n",
    "    output_folder='./output/'\n",
    "    \n",
    "    ##list all files in data folder\n",
    "    data_list=os.listdir(data_folder)\n",
    "    ##find all mat files in the list\n",
    "    data_list=funcs.find_mat(data_list)\n",
    "\n",
    "    ##check whether the list is empty\n",
    "    if not data_list:\n",
    "       raise ValueError('There is no mat file in given folder path.') \n",
    "    ##reconstruct the phantoms\n",
    "    for i in range(len(data_list)):\n",
    "        ##get data path\n",
    "        load_file_name=data_list[i]\n",
    "        print('processing data:',load_file_name)\n",
    "\n",
    "        output_file_name=load_file_name[0:-4]+'.png'\n",
    "        data_path=data_folder+load_file_name\n",
    "        output_path=output_folder+output_file_name\n",
    "        ##reconstruct\n",
    "        iter1 = funcs.Load_process(data_path,output_path,group_number)"
   ]
  },
  {
   "cell_type": "code",
   "execution_count": 2,
   "id": "50e1903d",
   "metadata": {},
   "outputs": [],
   "source": [
    "def calcScore(reconImg, groundtruthImg):\n",
    "    Ir = reconImg\n",
    "    It = groundtruthImg\n",
    "\n",
    "    AND = lambda x, y: np.logical_and(x, y)\n",
    "    NOT = lambda x: np.logical_not(x)\n",
    "\n",
    "    # confusion matrix\n",
    "    TP = float(len(np.where(AND(It, Ir))[0]))\n",
    "    TN = float(len(np.where(AND(NOT(It), NOT(Ir)))[0]))\n",
    "    FP = float(len(np.where(AND(NOT(It), Ir))[0]))\n",
    "    FN = float(len(np.where(AND(It, NOT(Ir)))[0]))\n",
    "    cmat = np.array([[TP, FN], [FP, TN]])\n",
    "\n",
    "    # Matthews correlation coefficient (MCC)\n",
    "    numerator = TP * TN - FP * FN\n",
    "    denominator = np.sqrt((TP + FP) * (TP + FN) * (TN + FP) * (TN + FN))\n",
    "\n",
    "    if denominator == 0:\n",
    "        score = 0\n",
    "    else:\n",
    "        score = numerator / denominator\n",
    "\n",
    "    return score"
   ]
  },
  {
   "cell_type": "code",
   "execution_count": 3,
   "id": "26ee3cd8",
   "metadata": {},
   "outputs": [],
   "source": [
    "import math\n",
    "def L2loss(noisy,gt):\n",
    "    res = noisy - gt\n",
    "    msegt = np.mean(gt * gt)\n",
    "    mseres = np.mean(res * res)\n",
    "    loss = mseres/msegt\n",
    "    return loss"
   ]
  },
  {
   "cell_type": "code",
   "execution_count": 4,
   "id": "093347cc",
   "metadata": {},
   "outputs": [],
   "source": [
    "from scipy import io\n",
    "import numpy as np\n",
    "\n",
    "br = io.loadmat('./temp/final_result.mat')['u']\n",
    "deblur = io.loadmat('./temp/tmp_result.mat')['u_hat']\n",
    "gt = io.loadmat('D:/phd_y4s1/HTC2022/htc2022_ta_full_recon_fbp_seg.mat')['reconFullFbpSeg'].astype(np.float32)"
   ]
  },
  {
   "cell_type": "code",
   "execution_count": 18,
   "id": "38bee527",
   "metadata": {},
   "outputs": [
    {
     "name": "stdout",
     "output_type": "stream",
     "text": [
      "0.8382665154022098\n",
      "0.9022849060207375\n",
      "0.9024273571426695\n"
     ]
    }
   ],
   "source": [
    "print(calcScore(deblur, gt))\n",
    "print(calcScore(iter1[0][2], gt))\n",
    "print(calcScore(iter1[1][2], gt))"
   ]
  },
  {
   "cell_type": "code",
   "execution_count": 19,
   "id": "0c771f15",
   "metadata": {},
   "outputs": [
    {
     "name": "stdout",
     "output_type": "stream",
     "text": [
      "0.8959673685192092\n",
      "0.9022041268589536\n",
      "0.9024273571426695\n",
      "0.8959532998480997\n",
      "0.884512241459193\n",
      "0.8827664325756959\n",
      "0.8694332138337184\n",
      "0.8569747040978599\n",
      "0.8497018033162081\n",
      "0.8382665154022098\n"
     ]
    }
   ],
   "source": [
    "for i in range(10):\n",
    "    print(calcScore(iter1[1][i], gt))"
   ]
  },
  {
   "cell_type": "code",
   "execution_count": 20,
   "id": "99e2cd48",
   "metadata": {},
   "outputs": [
    {
     "data": {
      "text/plain": [
       "<matplotlib.image.AxesImage at 0x2359602dcd0>"
      ]
     },
     "execution_count": 20,
     "metadata": {},
     "output_type": "execute_result"
    },
    {
     "data": {
      "image/png": "[encoded data removed]",
      "text/plain": [
       "<Figure size 640x480 with 1 Axes>"
      ]
     },
     "metadata": {},
     "output_type": "display_data"
    }
   ],
   "source": [
    "import matplotlib.pyplot as plt\n",
    "%matplotlib inline\n",
    "plt.imshow(iter1[1][0])"
   ]
  },
  {
   "cell_type": "code",
   "execution_count": null,
   "id": "49d22c16",
   "metadata": {},
   "outputs": [],
   "source": []
  }
 ],
 "metadata": {
  "kernelspec": {
   "display_name": "Python 3 (ipykernel)",
   "language": "python",
   "name": "python3"
  },
  "language_info": {
   "codemirror_mode": {
    "name": "ipython",
    "version": 3
   },
   "file_extension": ".py",
   "mimetype": "text/x-python",
   "name": "python",
   "nbconvert_exporter": "python",
   "pygments_lexer": "ipython3",
   "version": "3.9.13"
  }
 },
 "nbformat": 4,
 "nbformat_minor": 5
}
